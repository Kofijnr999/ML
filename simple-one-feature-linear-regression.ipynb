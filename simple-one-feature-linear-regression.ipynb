{
 "cells": [
  {
   "cell_type": "markdown",
   "metadata": {
    "_cell_guid": "6a3d53e8-ee9e-83ab-cf32-782361dcfe92"
   },
   "source": [
    "This is a sandpit to play around with panda, numpy, scipy and sklearn on a very simple linear regression. Having such a simple dataset  to play with (it's only got one feature) means I can concentrate on using the commands rather than being overly concerned about the data. I am following a process of:\n",
    "\n",
    "1. Load data\n",
    "2. Clean data\n",
    "3. Train model with training dataset\n",
    "4. Have a look at the statistics\n",
    "5. Test the trained model with provided test dataset\n",
    "\n",
    "It would be great if someone could verify the statistical assumptions and use of the formulas below. It's the first time I have used them, so there could be mistakes!!"
   ]
  },
  {
   "cell_type": "code",
   "execution_count": 1,
   "metadata": {
    "_cell_guid": "74853f7f-9f7e-6976-2e94-d2c0bbcde92a"
   },
   "outputs": [
    {
     "name": "stdout",
     "output_type": "stream",
     "text": [
      "Rows before clean:  1400 \n",
      "\n",
      "Rows after clean:  1398 \n",
      "\n",
      "0    21.549452\n",
      "1    47.464463\n",
      "2    17.218656\n",
      "3    36.586398\n",
      "4    87.288984\n",
      "5    32.463875\n",
      "Name: y, dtype: float64\n",
      "0    24.0\n",
      "1    50.0\n",
      "2    15.0\n",
      "3    38.0\n",
      "4    87.0\n",
      "5    36.0\n",
      "Name: x, dtype: float64\n"
     ]
    }
   ],
   "source": [
    "# Import the required libraries\n",
    "from sklearn import linear_model\n",
    "import pandas as pd\n",
    "import matplotlib.pyplot as plt\n",
    "import numpy as np\n",
    "import math   # yep! going to a bit of maths later!!\n",
    "from scipy import stats as st # and some stats\n",
    "\n",
    "# Load up the files \n",
    "dirty_training_set = pd.read_csv('../input/train.csv')\n",
    "dirty_test_set = pd.read_csv('../input/test.csv')\n",
    "\n",
    "#...but clean the data by dropping an dodgy data\n",
    "training_set = dirty_training_set.dropna() \n",
    "test_set = dirty_test_set.dropna() \n",
    "\n",
    "#... and see the effect of this\n",
    "print (\"Rows before clean: \", dirty_training_set.size, \"\\n\")\n",
    "print (\"Rows after clean: \", training_set.size, \"\\n\")\n",
    "\n",
    "# Let's print some of the training data - just to get used to using panda\n",
    "print (training_set.loc[0:5]['y'])\n",
    "print (training_set.loc[0:5]['x'])"
   ]
  },
  {
   "cell_type": "code",
   "execution_count": 2,
   "metadata": {
    "_cell_guid": "0fd72211-2dfb-b1c5-57f6-356358803d6c"
   },
   "outputs": [
    {
     "name": "stdout",
     "output_type": "stream",
     "text": [
      "Mean of X Training set:  50.0143061516 \n",
      "\n",
      "Median of X Training set:  49.0 \n",
      "\n",
      "Mean of Y Training set:  49.9398691705 \n",
      "\n",
      "Median of Y Training set:  48.97302037 \n",
      "\n",
      "Std Dev of X Training set:  28.9338413853 \n",
      "\n",
      "Std Dev of Y Training set:  29.0883876043 \n",
      "\n"
     ]
    }
   ],
   "source": [
    "x_training_set = training_set.as_matrix(['x'])\n",
    "y_training_set = training_set.as_matrix(['y'])\n",
    "\n",
    "\n",
    "x_test_set = test_set.as_matrix(['x'])\n",
    "y_test_set = test_set.as_matrix(['y'])\n",
    "\n",
    "# Review some of the statistics to check whether the data is skewed\n",
    "print (\"Mean of X Training set: \", np.mean(x_training_set), \"\\n\")\n",
    "print (\"Median of X Training set: \", np.median(x_training_set), \"\\n\")\n",
    "print (\"Mean of Y Training set: \", np.mean(y_training_set), \"\\n\")\n",
    "print (\"Median of Y Training set: \", np.median(y_training_set), \"\\n\")\n",
    "print (\"Std Dev of X Training set: \", np.std(x_training_set), \"\\n\")\n",
    "print (\"Std Dev of Y Training set: \", np.std(y_training_set), \"\\n\")"
   ]
  },
  {
   "cell_type": "markdown",
   "metadata": {
    "_cell_guid": "72a2c30a-e8f6-caf1-f805-f469fc224e98"
   },
   "source": [
    "Median and mean are similar so the training set isn't skewed by any outliers that might cause leverage when doing the linear regression"
   ]
  },
  {
   "cell_type": "code",
   "execution_count": 3,
   "metadata": {
    "_cell_guid": "95911182-22c8-22dc-0c0a-4bc90c1c354e"
   },
   "outputs": [
    {
     "data": {
      "image/png": "[encoded data removed]",
      "text/plain": [
       "<matplotlib.figure.Figure at 0x7f40903764a8>"
      ]
     },
     "metadata": {},
     "output_type": "display_data"
    },
    {
     "data": {
      "image/png": "[encoded data removed]",
      "text/plain": [
       "<matplotlib.figure.Figure at 0x7f4090376ba8>"
      ]
     },
     "metadata": {},
     "output_type": "display_data"
    },
    {
     "data": {
      "image/png": "[encoded data removed]",
      "text/plain": [
       "<matplotlib.figure.Figure at 0x7f40868d6c88>"
      ]
     },
     "metadata": {},
     "output_type": "display_data"
    }
   ],
   "source": [
    "\n",
    "# So let's plot some of the data \n",
    "# - this gives some core routines to experiment with different parameters\n",
    "plt.title('Relationship between X and Y')\n",
    "plt.scatter(x_training_set, y_training_set,  color='black')\n",
    "plt.show()\n",
    "\n",
    "# Use subplot to have graphs side by side\n",
    "plt.subplot(1, 2, 1)\n",
    "plt.title('X training set')\n",
    "plt.hist(x_training_set)\n",
    "\n",
    "plt.subplot(1, 2, 2)\n",
    "plt.title('Y training set')\n",
    "plt.hist(y_training_set)\n",
    "plt.show()\n",
    "\n",
    "plt.subplot(1, 2, 1)\n",
    "plt.title('X training set')\n",
    "plt.boxplot(x_training_set)\n",
    "\n",
    "plt.subplot(1, 2, 2)\n",
    "plt.title('Y training set')\n",
    "plt.boxplot(y_training_set)\n",
    "plt.show()"
   ]
  },
  {
   "cell_type": "markdown",
   "metadata": {
    "_cell_guid": "6870e81e-93f4-5836-0343-d7f5f376f7db"
   },
   "source": [
    "Does really show very much but we are not really here for the data.  The data isn't normal and there doesn't seem to be any outliers to worry about."
   ]
  },
  {
   "cell_type": "code",
   "execution_count": 4,
   "metadata": {
    "_cell_guid": "629e6ada-fcda-d7a2-7e26-346fdee737df"
   },
   "outputs": [
    {
     "name": "stdout",
     "output_type": "stream",
     "text": [
      "R sq:  0.990701531903\n",
      "Correlation:  0.9953399077212527\n"
     ]
    }
   ],
   "source": [
    "# Now to set up the linear regression model\n",
    "# Create linear regression object\n",
    "lm = linear_model.LinearRegression()\n",
    "# ... then fir it\n",
    "lm.fit(x_training_set,y_training_set)\n",
    "\n",
    "# Have a look at R sq to give an idea of the fit \n",
    "print('R sq: ',lm.score(x_training_set,y_training_set))\n",
    "\n",
    "# and so the correlation is..\n",
    "print('Correlation: ', math.sqrt(lm.score(x_training_set,y_training_set)))\n"
   ]
  },
  {
   "cell_type": "markdown",
   "metadata": {
    "_cell_guid": "b4182047-7f58-90b1-5ab7-49e4ac6df9e4"
   },
   "source": [
    "Now that's what I call a good R sq and correlation!!! The positive correlation shows that as Y increases\n",
    "so does X."
   ]
  },
  {
   "cell_type": "code",
   "execution_count": 5,
   "metadata": {
    "_cell_guid": "c4cad080-fbd2-9ea8-da55-214f275defcf"
   },
   "outputs": [
    {
     "name": "stdout",
     "output_type": "stream",
     "text": [
      "Coefficient for X  [[ 1.00065638]]\n",
      "Standard Error:  [ 1.09516205]\n",
      "The t-statistic: [[ 0.91370623]]\n",
      "Two tailed p-values: \n"
     ]
    },
    {
     "data": {
      "text/plain": [
       "(array([ 0.99533991]), array([ 0.]))"
      ]
     },
     "execution_count": 5,
     "metadata": {},
     "output_type": "execute_result"
    }
   ],
   "source": [
    "# This the coefficient for the single feature\n",
    "print(\"Coefficient for X \", lm.coef_)\n",
    "\n",
    "# Get the standard error\n",
    "print (\"Standard Error: \",st.sem(x_training_set))\n",
    "# Our hypothesis test for this is that there is no difference between the coefficient and the true value\n",
    "# that the coefficient should be\n",
    "ttest = lm.coef_/st.sem(x_training_set)\n",
    "print (\"The t-statistic:\",ttest)\n",
    "\n",
    "# but we need the p-value to help determine the probablity that we have a correct t-statistic\n",
    "print (\"Two tailed p-values: \")\n",
    "st.pearsonr(x_training_set, y_training_set)\n"
   ]
  },
  {
   "cell_type": "markdown",
   "metadata": {
    "_cell_guid": "a36e3c89-5523-c394-e439-dcc0a1675519"
   },
   "source": [
    "Although we haven't a normal distribution I have done these calculations - just because."
   ]
  },
  {
   "cell_type": "code",
   "execution_count": 6,
   "metadata": {
    "_cell_guid": "07e2ef93-2696-2827-e066-37354431c8cd"
   },
   "outputs": [
    {
     "name": "stdout",
     "output_type": "stream",
     "text": [
      "The F-statistic is:   295202.869087\n"
     ]
    }
   ],
   "source": [
    "# This the F-statistic that shows whether there is a relationship between the response and the predictors\n",
    "# I couldn't find a function for this so I have done the calcs by hand\n",
    "# First get the total sum of the squares.\n",
    "TSS = y_training_set\n",
    "TSS = [i**2 for i in TSS]   # Using list comprehension to square each element\n",
    "TSS = np.sum(TSS)\n",
    "\n",
    "# This calculates the residual sum of the squares\n",
    "y_predicted = lm.predict(x_training_set)   # These are predicted values of Y\n",
    "y_variance = y_training_set - y_predicted # These are the residuals bewteen actual values of Y and the predcitions\n",
    "y_variance = [i**2 for i in y_variance]   # Using list comprehension to square each element\n",
    "RSS = np.sum(y_variance)\n",
    "\n",
    "# As we only have one feature the f-statistic formula = ((TSS -RSS)/p)/(RSS/(n - p -1)) becomes\n",
    "#(TSS - RSS)/(RSS/ (n - 2) )\n",
    "Fstatistic = (TSS - RSS) / (RSS/(np.size(y_predicted) - 2))\n",
    "print (\"The F-statistic is:  \", Fstatistic)\n",
    "\n",
    "\n",
    "\n"
   ]
  },
  {
   "cell_type": "markdown",
   "metadata": {
    "_cell_guid": "d9c18bb3-2a9f-8b36-cfe5-a3a7757f48cd"
   },
   "source": [
    "Which is pretty huge so I think we can safely say there is a relationship. As we've got a pretty good\n",
    "model let's run it against the test set."
   ]
  },
  {
   "cell_type": "code",
   "execution_count": 7,
   "metadata": {
    "_cell_guid": "a52a815f-0649-a9fb-ed88-15c5d5959d54"
   },
   "outputs": [
    {
     "data": {
      "image/png": "[encoded data removed]",
      "text/plain": [
       "<matplotlib.figure.Figure at 0x7f40cc8f9780>"
      ]
     },
     "metadata": {},
     "output_type": "display_data"
    }
   ],
   "source": [
    "# So let's run the model against the test data\n",
    "y_predicted = lm.predict(x_test_set)\n",
    "\n",
    "plt.title('Comparison of Y values in test and the Predicted values')\n",
    "plt.ylabel('Test Set')\n",
    "plt.xlabel('Predicted values')\n",
    "plt.scatter(y_predicted, y_test_set,  color='black')\n",
    "plt.show()"
   ]
  },
  {
   "cell_type": "markdown",
   "metadata": {
    "_cell_guid": "a6f2ceda-31f8-42ef-c0f2-40ee6afb99d1"
   },
   "source": [
    "As we expected it's a really good fit!!"
   ]
  }
 ],
 "metadata": {
  "_change_revision": 74,
  "_is_fork": false,
  "kernelspec": {
   "display_name": "Python 3",
   "language": "python",
   "name": "python3"
  },
  "language_info": {
   "codemirror_mode": {
    "name": "ipython",
    "version": 3
   },
   "file_extension": ".py",
   "mimetype": "text/x-python",
   "name": "python",
   "nbconvert_exporter": "python",
   "pygments_lexer": "ipython3",
   "version": "3.6.0"
  }
 },
 "nbformat": 4,
 "nbformat_minor": 0
}
